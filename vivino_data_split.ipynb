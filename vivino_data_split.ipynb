{
 "cells": [
  {
   "cell_type": "markdown",
   "metadata": {},
   "source": [
    "# Vivino project - datasets concatenation and train/test split\n",
    "Author : Alphonse Doutriaux, march 2018"
   ]
  },
  {
   "cell_type": "markdown",
   "metadata": {},
   "source": [
    "#### Import libs"
   ]
  },
  {
   "cell_type": "code",
   "execution_count": 1,
   "metadata": {},
   "outputs": [],
   "source": [
    "import pandas as pd\n",
    "import numpy as np\n",
    "import unicodedata"
   ]
  },
  {
   "cell_type": "markdown",
   "metadata": {},
   "source": [
    "#### Import data, concateante wines and prices, split into train and test"
   ]
  },
  {
   "cell_type": "code",
   "execution_count": 2,
   "metadata": {},
   "outputs": [],
   "source": [
    "df = pd.read_csv(\"./data/raw_data/wines.csv\", index_col='vintage_id')\n",
    "prices = pd.read_csv(\"./data/raw_data/prices.csv\", index_col='vintage_id') # a list of prices with a different order\n",
    "\n",
    "df = df.drop_duplicates()"
   ]
  },
  {
   "cell_type": "markdown",
   "metadata": {},
   "source": [
    "* For each wine, find the corresponding price"
   ]
  },
  {
   "cell_type": "code",
   "execution_count": 3,
   "metadata": {},
   "outputs": [],
   "source": [
    "df['price'] = pd.Series(np.nan, index=df.index)\n",
    "\n",
    "for index in prices.index: # for each row in df\n",
    "    \n",
    "    if len(prices.loc[index]) > 1:  # if two corresponding indexes in prices.index\n",
    "        price_to_set = prices.loc[index].iloc[0][0] # find the corresponding price in prices\n",
    "        df.loc[index, 'price'] = price_to_set # set row price with this value\n",
    "        \n",
    "    else: # if only one corresponding index in prices.index\n",
    "        price_to_set = prices.loc[index][0] # find the corresponding price in prices\n",
    "        df.loc[index, 'price'] = price_to_set # set row price with this value"
   ]
  },
  {
   "cell_type": "markdown",
   "metadata": {},
   "source": [
    "* Remove outliers before data analysis (91 values)"
   ]
  },
  {
   "cell_type": "code",
   "execution_count": 4,
   "metadata": {
    "scrolled": true
   },
   "outputs": [],
   "source": [
    "indexes_to_drop = []\n",
    "for index in df.index:\n",
    "    prices_mean = df['price'].mean()\n",
    "    prices_std = df['price'].std()\n",
    "    if df.loc[index, 'price'] < prices_mean - 3* prices_std:\n",
    "        indexes_to_drop.append(index)\n",
    "    elif df.loc[index, 'price'] > prices_mean + 3* prices_std:\n",
    "        indexes_to_drop.append(index)"
   ]
  },
  {
   "cell_type": "markdown",
   "metadata": {},
   "source": [
    "* For each wine region, add the surface and production volume"
   ]
  },
  {
   "cell_type": "code",
   "execution_count": 5,
   "metadata": {},
   "outputs": [],
   "source": [
    "# this function transforms \"Hautes-Côtes de Nuits\" into \"hautes cotes de nuit\"\n",
    "def flatten(text):\n",
    "    text = text.lower()\n",
    "    text = text.replace(\"-\", \" \")\n",
    "    text = unicodedata.normalize('NFD', text).encode('ascii', 'ignore') \n",
    "    text = text.decode(\"utf-8\") \n",
    "    return(text)"
   ]
  },
  {
   "cell_type": "code",
   "execution_count": 6,
   "metadata": {},
   "outputs": [],
   "source": [
    "# read the table of AOC that was built using a scraping algorithm\n",
    "aoc = pd.read_csv(\"./wikipedia_scraping/aoc_clean.csv\", index_col=0)"
   ]
  },
  {
   "cell_type": "code",
   "execution_count": 7,
   "metadata": {},
   "outputs": [],
   "source": [
    "# for each wine, add the corresponding regions's production volume\n",
    "df['wine_region_production_vol'] = pd.Series(0, index=df.index)\n",
    "for index in df.index:\n",
    "    if flatten(df.loc[index, \"wine_region_name\"]) in aoc.name.tolist():\n",
    "        corresponding_volume = aoc[aoc['name'] == flatten(df.loc[index, \"wine_region_name\"])].production_volume.values[0]\n",
    "        df.loc[index, 'wine_region_production_vol'] = corresponding_volume\n",
    "df['wine_region_production_vol'] = df['wine_region_production_vol'].replace(0, np.nan)"
   ]
  },
  {
   "cell_type": "code",
   "execution_count": 8,
   "metadata": {},
   "outputs": [],
   "source": [
    "# for each wine, add the corresponding regions's surface\n",
    "df['wine_region_surface'] = pd.Series(0, index=df.index)\n",
    "for index in df.index:\n",
    "    if flatten(df.loc[index, \"wine_region_name\"]) in aoc.name.tolist():\n",
    "        corresponding_surface = aoc[aoc['name'] == flatten(df.loc[index, \"wine_region_name\"])].area.values[0]\n",
    "        df.loc[index, 'wine_region_surface'] = corresponding_surface\n",
    "df['wine_region_surface'] = df['wine_region_surface'].replace(0, np.nan)"
   ]
  },
  {
   "cell_type": "markdown",
   "metadata": {},
   "source": [
    "* Remove the wines that do not come from France"
   ]
  },
  {
   "cell_type": "code",
   "execution_count": 9,
   "metadata": {},
   "outputs": [],
   "source": [
    "df = df[df['wine_country'] == 'France']\n",
    "# from 12k to 10k wines\n",
    "df = df.drop(['wine_country'], axis=1)"
   ]
  },
  {
   "cell_type": "markdown",
   "metadata": {},
   "source": [
    "* Split the dataset into train set and test set. As the data was imported from vivino.com with a given order, we need to shuffle the rows in order to get representative test and train sets"
   ]
  },
  {
   "cell_type": "code",
   "execution_count": 10,
   "metadata": {},
   "outputs": [],
   "source": [
    "df = df.drop(indexes_to_drop, axis=0)"
   ]
  },
  {
   "cell_type": "code",
   "execution_count": 11,
   "metadata": {},
   "outputs": [],
   "source": [
    "test_size = 0.2\n",
    "corresponding_row_nb = round(len(df) * test_size)"
   ]
  },
  {
   "cell_type": "code",
   "execution_count": 12,
   "metadata": {},
   "outputs": [],
   "source": [
    "df = df.sample(frac=1)"
   ]
  },
  {
   "cell_type": "code",
   "execution_count": 13,
   "metadata": {},
   "outputs": [],
   "source": [
    "train = df[corresponding_row_nb:]\n",
    "test = df[:corresponding_row_nb]"
   ]
  },
  {
   "cell_type": "markdown",
   "metadata": {},
   "source": [
    "#### Export data into train.csv and test.csv"
   ]
  },
  {
   "cell_type": "code",
   "execution_count": 14,
   "metadata": {},
   "outputs": [],
   "source": [
    "train.to_csv(\"./data/train.csv\")\n",
    "test.to_csv(\"./data/test.csv\")"
   ]
  },
  {
   "cell_type": "code",
   "execution_count": null,
   "metadata": {},
   "outputs": [],
   "source": []
  }
 ],
 "metadata": {
  "kernelspec": {
   "display_name": "Python 3",
   "language": "python",
   "name": "python3"
  },
  "language_info": {
   "codemirror_mode": {
    "name": "ipython",
    "version": 3
   },
   "file_extension": ".py",
   "mimetype": "text/x-python",
   "name": "python",
   "nbconvert_exporter": "python",
   "pygments_lexer": "ipython3",
   "version": "3.6.3"
  }
 },
 "nbformat": 4,
 "nbformat_minor": 2
}
