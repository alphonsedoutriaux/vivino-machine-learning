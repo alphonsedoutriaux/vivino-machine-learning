{
 "cells": [
  {
   "cell_type": "markdown",
   "metadata": {},
   "source": [
    "# Vivino project\n",
    "Author : Alphonse Doutriaux, march 2018"
   ]
  },
  {
   "cell_type": "markdown",
   "metadata": {},
   "source": [
    "## 0. Imports and functions definitions"
   ]
  },
  {
   "cell_type": "markdown",
   "metadata": {},
   "source": [
    "#### Import libs"
   ]
  },
  {
   "cell_type": "code",
   "execution_count": 1,
   "metadata": {},
   "outputs": [
    {
     "name": "stderr",
     "output_type": "stream",
     "text": [
      "/Library/Frameworks/Python.framework/Versions/3.6/lib/python3.6/site-packages/sklearn/cross_validation.py:41: DeprecationWarning: This module was deprecated in version 0.18 in favor of the model_selection module into which all the refactored classes and functions are moved. Also note that the interface of the new CV iterators are different from that of this module. This module will be removed in 0.20.\n",
      "  \"This module will be removed in 0.20.\", DeprecationWarning)\n"
     ]
    }
   ],
   "source": [
    "import pandas as pd\n",
    "import numpy as np\n",
    "import re\n",
    "import unicodedata\n",
    "import multiprocessing\n",
    "import matplotlib.pyplot as plt\n",
    "%config InlineBackend.figure_format = 'retina'\n",
    "\n",
    "from sklearn.model_selection import cross_val_score, GridSearchCV, train_test_split\n",
    "from sklearn.ensemble import RandomForestRegressor\n",
    "from sklearn.linear_model import LinearRegression\n",
    "from sklearn.cross_validation import KFold\n",
    "from sklearn.metrics import r2_score\n",
    "from joblib import Parallel, delayed\n",
    "from xgboost import XGBRegressor"
   ]
  },
  {
   "cell_type": "markdown",
   "metadata": {},
   "source": [
    "#### Import data, concateante wines and prices, split into train and test"
   ]
  },
  {
   "cell_type": "code",
   "execution_count": 2,
   "metadata": {},
   "outputs": [],
   "source": [
    "df = pd.read_csv(\"./data/train.csv\", index_col=\"vintage_id\")"
   ]
  },
  {
   "cell_type": "markdown",
   "metadata": {},
   "source": [
    "#### Custom functions"
   ]
  },
  {
   "cell_type": "code",
   "execution_count": 3,
   "metadata": {},
   "outputs": [],
   "source": [
    "def premium_identifier(string):\n",
    "    pgcc = re.search(r\"[Pp]remier\\s[Gg]rand\\s[Cc]ru\\s[Cc]lass[eé]\", string) # matches the expression \"Premier Grand Cru Classé\" regardless of the case \n",
    "    gcc = re.search(r\"[Gg]rand\\s[Cc]ru\\s[Cc]lass[eé]\", string) # matches the expression \"Grand Cru Classé\" regardless of the case \n",
    "    gc = re.search(r\"[Gg]rand\\s[Cc]ru\", string) # matches the \"Grand Cru\" expression regardless of the case\n",
    "    bdb = re.search(r\"[Bb]lanc\\s[Dd]e\\s[Bb]lanc\", string) # matches the \"Blanc de Blancs\" expression regardless of the case\n",
    "    pc = re.search(r\"([Pp]remier|[1][a-z]*)\\s[Cc]ru\", string) # matches the \"Premier Cru\" expression regardless of the case\n",
    "\n",
    "    if pgcc and gcc and gc:\n",
    "        return(\"Premier Grand Cru Classé\")\n",
    "    elif not pgcc and gcc and gc:\n",
    "        return(\"Grand Cru Classé\")\n",
    "    elif not pgcc and not gcc and gc:\n",
    "        return(\"Grand Cru\")\n",
    "    elif bdb:\n",
    "        return(\"Blanc de Blancs\")\n",
    "    elif pc:\n",
    "        return(\"Premier Cru\")\n",
    "    else:\n",
    "        return(np.nan)"
   ]
  },
  {
   "cell_type": "code",
   "execution_count": 4,
   "metadata": {},
   "outputs": [],
   "source": [
    "def winery_category_identifier(string):\n",
    "    domaine = re.search(r\"([Dd]omaine|[Dd]omenico)\", string) # matches the expression \"Domaine\" \n",
    "    chateau = re.search(r\"([Cc]h[aâ]teau|[Cc]astle|Castello)\", string) # matches the expression \"Chateau\" regardless of the case \n",
    "    \n",
    "    if domaine :\n",
    "        return(\"Domaine\")\n",
    "    elif chateau:\n",
    "        return(\"Château\")\n",
    "    else:\n",
    "        return(np.nan)"
   ]
  },
  {
   "cell_type": "code",
   "execution_count": 5,
   "metadata": {},
   "outputs": [],
   "source": [
    "def region_cleaner(string):\n",
    "    \n",
    "    # this the the list of french AOCs\n",
    "    region_list = ['alsace chasselas ou gutedel', 'alsace gewurztraminer', 'alsace grand cru', 'alsace muscat', 'alsace pinot noir', 'alsace pinot ou klevner', 'alsace riesling', 'alsace sylvaner', 'alsace tokay-pinot gris', \"cremant d'alsace\", 'beaujolais', 'beaujolais-villages', 'beaujolais superieur', 'brouilly', 'chenas', 'chiroubles', 'cote de brouilly', 'coteaux du lyonnais', 'fleurie', 'julienas', 'morgon', 'moulin a vent', 'regnie', 'saint-amour', 'barsac', 'blaye', 'bordeaux', 'bordeaux clairet', 'bordeaux cotes de francs', 'bordeaux rose', 'bordeaux sec', 'bordeaux superieur', 'cadillac', 'canon-fronsac', 'cerons', 'cremant de bordeaux', 'cotes de blaye', 'cotes de bourg', 'cotes de castillon', 'entre-deux-mers', 'fronsac', 'graves', 'graves de vayres', 'graves superieures', 'haut-medoc', 'lalande de pomerol', 'listrac-medoc', 'loupiac', 'margaux', 'medoc', 'montagne saint-emilion', 'moulis en medoc', 'pauillac', 'pessac leognan', 'pomerol', 'premieres cotes de bordeaux', 'premieres cotes de blaye', 'puisseguin saint-emilion', 'saint-emilion', 'saint-emilion grand cru', 'saint-estephe', 'saint-georges saint-emilion', 'saint-julien', 'sainte-croix-du-mont', 'sainte-foix-bordeaux', 'sauternes', 'aloxe-corton', 'auxey-duresses', 'batard-montrachet', 'beaune', 'bienvenue batard-montrachet ', 'blagny', 'bonnes-mares', 'bourgogne', 'bourgogne aligote', 'bourgogne aligote bouzeron', 'bourgogne chitry', 'bourgogne claret', 'bourgogne cote chalonnaise', 'bourgogne cote saint-jacques', \"bourgogne cotes d'auxerre\", 'bourgogne cotes du couchois', 'bourgogne coulanges-la-vineuse', 'bourgogne epineuil ', 'bourgogne grand ordinaire ', 'bourgogne hautes-cotes de nuits', 'bourgogne hautes-cotes de beaune', 'bourgogne la chapelle notre-dame', 'bourgogne le chapitre', 'bourgogne montrecul', 'bourgogne mousseux', 'bourgogne passetoutgrain', 'bourgogne vezelay', 'chablis', 'chablis grand cru', 'chablis premier cru', 'chambertin', 'chambertin-clos de beze', 'chapelle-chambertin', 'charmes-chambertin', 'chambolle musigny', 'chassagne-montrachet', 'chevalier-montrachet', 'chorey-les-beaune', 'clos de la roche', 'clos de tart', 'clos de vougeot', 'clos des lambrays', 'clos saint-denis', 'corton', 'corton-charlemagne', 'cote de beaune', 'cote de beaune villages', 'cote de nuits-villages', 'cremant de bourgogne', 'criots batard-montrachet ', 'echezeaux', 'fixin', 'gevrey-chambertin', 'givry', 'grands-echezeaux', 'griotte-chambertin', 'irancy', 'ladoix', 'la grande rue', 'la tache', 'la romanee', 'latricieres-chambertin', 'macon', 'macon superieur', 'macon-villages', 'maranges', 'marsannay', 'mazis-chambertin', 'mazoyeres-chambertin', 'mercurey', 'meursault', 'montagny', 'monthelie', 'montrachet', 'morey-saint-denis', 'nuits-saint-georges', 'pernand-vergelesses', 'petit chablis', 'pommard', 'pouilly-fuisse', 'pouilly-loche', 'pouilly-vinzelles', 'puligny-montrachet', 'richebourg', 'romanee-conti', 'romanee-saint-vivant', 'ruchottes-chambertin', 'rully', 'saint-aubin', 'saint-bris', 'saint-romain', 'saint-veran', 'santenay', 'savigny-les-beaune', 'vire-clesse', 'volnay', 'vosne-romanee', 'vougeot', 'beaumes de venise', 'chateau-grillet', 'chateauneuf-du-pape', 'clairette de die', 'condrieu', 'cornas', 'cote rotie', 'coteaux de pierrevert', 'coteaux du tricastin', 'cotes du luberon', 'cotes du rhone', 'cotes du rhone-villages', 'cotes du ventoux', 'cotes du vivarais aovdqs', 'crozes-hermitage', 'gigondas', 'hermitage', 'lirac', 'muscat de beaumes-de-venise', 'saint-joseph', 'saint peray', 'tavel', 'vacqueyras', 'vinsobres', 'banyuls', 'banyuls grand cru', 'blanquette de limoux', 'cabardes aovdqs', 'clairette de bellegarde', 'clairette du languedoc', 'collioure', 'corbieres', 'costieres de nimes', 'coteaux du languedoc', 'cotes de la malepere', 'cotes du roussillon', 'cotes du roussillon-villages', 'faugeres', 'fitou', 'limoux', 'maury', 'minervois', 'muscat de lunel', 'muscat de mireval', 'muscat de rivesaltes', 'muscat de saint-jean de minervois', 'picpoul de pinet', 'rivesaltes', 'saint-chinian', 'anjou', 'anjou-coteaux de la loire', 'anjou-gamay', 'anjou-villages', 'bonnezeaux', 'bourgueil', \"cabernet d'anjou\", 'chateaumeillant aovdqs', 'chaume', 'cheverny', 'chinon', 'cote roannaise', \"coteaux d'ancenis\", \"coteaux de l'aubance\", 'coteaux du giennois aovdqs', 'coteaux du layon', 'coteaux du loir', 'coteaux du vendomois aovdqs', \"cotes d'auvergne aovdqs\", 'cotes du forez aovdqs', 'cour-cheverny', 'fiefs vendeens aovdqs', 'gros plant aovdqs', 'haut-poitou aovdqs', 'jasnieres', 'menetou-salon', 'montlouis', 'muscadet', 'muscadet cotes de grand-lieu', 'muscadet de sevre-et-maine', 'muscadet des coteaux de la loire', 'quarts de chaume', 'pouilly-fume', 'pouilly-sur-loire', 'quincy', 'reuilly', 'rose de loire', \"rose d'anjou\", 'saint-nicolas-de-bourgueil', 'saint-pourcain aovdqs', 'sancerre', 'saumur', 'saumur sec blanc', 'saumur-champigny', 'savennieres', 'savennieres coulee-de-serrant', 'savennieres roches-aux-moines', 'touraine', 'touraine amboise', 'touraine-azay-le-rideau', 'touraine-mesland', 'valencay aovdqs', 'vouvray', 'bandol', 'bellet', 'cassis', \"coteaux d'aix\", 'coteaux varois en provence', 'cotes de provence', 'palette', 'ajaccio', 'muscat du cap corse', 'patrimonio', 'vin de corse', 'bearn', 'bergerac', 'bergerac sec', 'buzet', 'cahors', 'cotes de bergerac', 'cotes de bergerac moelleux', 'cotes de duras', 'cotes de saint-mont aovdqs', 'cotes du marmandais', 'fronton', 'gaillac', 'haut-montravel', 'irouleguy', 'jurancon', 'jurancon sec', 'madiran', 'marcillac', 'monbazillac', 'montravel', 'pacherenc du vic-bilh', 'pecharmant', 'saussignac', 'tursan aovdqs', 'arbois', 'arbois pupillin', 'bugey aovdqs', 'chateau-chalon', 'champagne', 'coteaux champenois', 'rose des riceys', 'cotes de toul aovdqs', 'moselle aovdqs', 'cotes du jura', 'cremant du jura', \"l'etoile\", 'pineau des charentes', 'roussette de savoie', 'vin de savoie']\n",
    "    match_list = []\n",
    "    \n",
    "    cleaned_string = str(unicodedata.normalize('NFKD', string).encode('ASCII', 'ignore'))\n",
    "    \n",
    "    for region in region_list:\n",
    "        if re.search(region, cleaned_string, re.IGNORECASE):\n",
    "            # we create a list in which every element is the length of the match between the input string and each region\n",
    "            match_length = re.search(region, cleaned_string, re.IGNORECASE).span()[1] - re.search(region, cleaned_string, re.IGNORECASE).span()[0]\n",
    "            match_list.append(match_length)\n",
    "        else:\n",
    "            match_list.append(0)\n",
    "            \n",
    "    if max(match_list) == 0: # if no region has matched\n",
    "        return(string.title())\n",
    "    else: # if a region has matched, the region whose match had the maximum length is the best fit\n",
    "        return(region_list[match_list.index(max(match_list))].title())"
   ]
  },
  {
   "cell_type": "code",
   "execution_count": 6,
   "metadata": {},
   "outputs": [],
   "source": [
    "# to be used for in-house cross-validation\n",
    "def fit_model(traini, model):\n",
    "    model.fit(X_train.iloc[traini], y_train.iloc[traini])\n",
    "    return(model)"
   ]
  },
  {
   "cell_type": "markdown",
   "metadata": {},
   "source": [
    "## 1. Preprocessing"
   ]
  },
  {
   "cell_type": "markdown",
   "metadata": {},
   "source": [
    "#### Rough data cleansing\n",
    "* Drop `vintage_name` column, which is equal to `wine_name` + `wine_year` (except for champagne and affiliates)"
   ]
  },
  {
   "cell_type": "code",
   "execution_count": 7,
   "metadata": {},
   "outputs": [],
   "source": [
    "df = df.drop(['vintage_name'], axis=1)"
   ]
  },
  {
   "cell_type": "markdown",
   "metadata": {},
   "source": [
    "* Replace `U.V.` and `N.V.` in `wine_year` with `2018` (this problem mainly concerns champagne and sparkling wines)"
   ]
  },
  {
   "cell_type": "code",
   "execution_count": 8,
   "metadata": {},
   "outputs": [],
   "source": [
    "df['wine_year'] = df['wine_year'].replace(\"U.V.\", 2018)\n",
    "df['wine_year'] = df['wine_year'].replace(\"N.V.\", 2018)\n",
    "df['wine_year'] = df['wine_year'].astype(int)"
   ]
  },
  {
   "cell_type": "markdown",
   "metadata": {},
   "source": [
    "#### Identify premium wines using the custom *premium_identifier* function"
   ]
  },
  {
   "cell_type": "code",
   "execution_count": 9,
   "metadata": {},
   "outputs": [],
   "source": [
    "for index in df.index:\n",
    "    premium_category = premium_identifier(df.loc[index, 'wine_name'])\n",
    "    df.loc[index, 'premium_category'] = premium_category\n",
    "df['premium_category'] = df['premium_category'].replace(np.nan, \"None\")"
   ]
  },
  {
   "cell_type": "markdown",
   "metadata": {},
   "source": [
    "#### Identify winery category using the custom *winery_category_identifier* function"
   ]
  },
  {
   "cell_type": "code",
   "execution_count": 10,
   "metadata": {},
   "outputs": [],
   "source": [
    "for index in df.index:\n",
    "    winery_category = winery_category_identifier(df.loc[index, 'winery_name'])\n",
    "    df.loc[index, 'winery_category'] = winery_category\n",
    "df['winery_category'] = df['winery_category'].replace(np.nan, \"None\")"
   ]
  },
  {
   "cell_type": "markdown",
   "metadata": {},
   "source": [
    "#### Reduce the number of region names with *soft grouping* and delete regions apearing only once"
   ]
  },
  {
   "cell_type": "code",
   "execution_count": 11,
   "metadata": {
    "scrolled": false
   },
   "outputs": [],
   "source": [
    "# this function allows to reduce the number of wine_region_names by 25%\n",
    "for index in df.index:\n",
    "    df.loc[index, \"wine_region_name\"] = region_cleaner(df.loc[index, \"wine_region_name\"])"
   ]
  },
  {
   "cell_type": "code",
   "execution_count": 12,
   "metadata": {},
   "outputs": [],
   "source": [
    "# delete rows whose region appears only once in the entire dataset\n",
    "value_counts = df['wine_region_name'].value_counts()\n",
    "regions_to_remove = value_counts[value_counts == 1].index.tolist()\n",
    "\n",
    "for index in df.index: \n",
    "    if df.loc[index, 'wine_region_name'] in regions_to_remove: # for each wine, check if its region belongs to the to-be-removed regions\n",
    "        df = df.drop(index, axis=0) # if yes, drop this wine"
   ]
  },
  {
   "cell_type": "markdown",
   "metadata": {},
   "source": [
    "#### Replace `NaN` values in `wine_region_production_volume` and `wine_region_surface` with median values"
   ]
  },
  {
   "cell_type": "code",
   "execution_count": 13,
   "metadata": {},
   "outputs": [],
   "source": [
    "df['wine_region_production_vol'] = df['wine_region_production_vol'].fillna(df['wine_region_production_vol'].mean())\n",
    "df['wine_region_surface'] = df['wine_region_surface'].fillna(df['wine_region_surface'].mean())"
   ]
  },
  {
   "cell_type": "markdown",
   "metadata": {},
   "source": [
    "#### Remove outliers in `ratings_list` column"
   ]
  },
  {
   "cell_type": "code",
   "execution_count": 14,
   "metadata": {},
   "outputs": [],
   "source": [
    "# to be executed only once\n",
    "df = df[df['vintage_ratings_count'] < df['vintage_ratings_count'].mean() + 3 * df['vintage_ratings_count'].std()]\n",
    "df = df[df['vintage_ratings_count'] > df['vintage_ratings_count'].mean() - 3 * df['vintage_ratings_count'].std()]"
   ]
  },
  {
   "cell_type": "markdown",
   "metadata": {},
   "source": [
    "#### Add an `is_brut` column for Champagne"
   ]
  },
  {
   "cell_type": "code",
   "execution_count": 15,
   "metadata": {},
   "outputs": [],
   "source": [
    "for index in df.index:\n",
    "    if re.search(r\"Brut\", df.loc[index, 'wine_name']):\n",
    "        df.loc[index, \"is_brut\"] = 1\n",
    "    else:\n",
    "        df.loc[index, \"is_brut\"] = 0\n",
    "# average Brut price 70, average champagne price 77"
   ]
  },
  {
   "cell_type": "markdown",
   "metadata": {},
   "source": [
    "#### Prepare for the regression"
   ]
  },
  {
   "cell_type": "code",
   "execution_count": 16,
   "metadata": {},
   "outputs": [],
   "source": [
    "data = df.copy()"
   ]
  },
  {
   "cell_type": "code",
   "execution_count": 17,
   "metadata": {},
   "outputs": [],
   "source": [
    "df = df.drop(['wine_name', 'winery_name', 'wine_id'], axis=1) # if one should be kept, probably winery_name"
   ]
  },
  {
   "cell_type": "code",
   "execution_count": 18,
   "metadata": {},
   "outputs": [
    {
     "name": "stderr",
     "output_type": "stream",
     "text": [
      "/Library/Frameworks/Python.framework/Versions/3.6/lib/python3.6/site-packages/ipykernel_launcher.py:3: FutureWarning: specifying 'categories' or 'ordered' in .astype() is deprecated; pass a CategoricalDtype instead\n",
      "  This is separate from the ipykernel package so we can avoid doing imports until\n"
     ]
    }
   ],
   "source": [
    "cols_to_encode = ['wine_region_name', 'premium_category', 'winery_category']\n",
    "for col in cols_to_encode:\n",
    "    df[col] = df[col].astype('category', categories = df[col].unique().tolist())\n",
    "\n",
    "df = pd.get_dummies(df, columns = cols_to_encode)"
   ]
  },
  {
   "cell_type": "code",
   "execution_count": 19,
   "metadata": {},
   "outputs": [],
   "source": [
    "X_train = df.drop(['price'], axis=1)\n",
    "y_train = df['price']"
   ]
  },
  {
   "cell_type": "markdown",
   "metadata": {},
   "source": [
    "## 2. XGBoost and RandomForest regressions\n",
    "### 2.1. XGBoost\n",
    "* GridsearchCV and hyperparameter tuning"
   ]
  },
  {
   "cell_type": "code",
   "execution_count": 36,
   "metadata": {
    "scrolled": true
   },
   "outputs": [
    {
     "name": "stdout",
     "output_type": "stream",
     "text": [
      "Best R2 score using XGBoost: 0.684\n",
      "{'colsample_bytree': 0.4, 'gamma': 0, 'learning_rate': 0.5, 'max_depth': 7, 'n_estimators': 20}\n"
     ]
    }
   ],
   "source": [
    "# this script takes circa. 20s\n",
    "\n",
    "n_estimators = [20]\n",
    "learning_rate = [0.1, 0.3, 0.5]\n",
    "gamma = [0]\n",
    "max_depth = [5, 7, 9]\n",
    "colsample_bytree = np.arange(0.2, 1, 0.2)\n",
    "\n",
    "param_grid_xgb = dict(n_estimators=n_estimators, learning_rate=learning_rate, gamma=gamma, max_depth=max_depth, colsample_bytree=colsample_bytree)\n",
    "\n",
    "xgb_gs = GridSearchCV(XGBRegressor(), param_grid=param_grid_xgb, n_jobs=-1)\n",
    "grid_result_xgb = xgb_gs.fit(X_train,y_train)\n",
    "\n",
    "print(\"Best R2 score using XGBoost: {:.3}\".format(xgb_gs.best_score_))\n",
    "print(xgb_gs.best_params_)"
   ]
  },
  {
   "cell_type": "markdown",
   "metadata": {},
   "source": [
    "* Model fitting and in-house cross-validation"
   ]
  },
  {
   "cell_type": "code",
   "execution_count": 37,
   "metadata": {},
   "outputs": [],
   "source": [
    "xgb = XGBRegressor(n_estimators=20,\n",
    "                  learning_rate=xgb_gs.best_params_['learning_rate'],\n",
    "                  gamma=xgb_gs.best_params_['gamma'],\n",
    "                  max_depth=xgb_gs.best_params_['max_depth'],\n",
    "                  colsample_bytree=xgb_gs.best_params_['colsample_bytree']\n",
    "                  )"
   ]
  },
  {
   "cell_type": "code",
   "execution_count": 38,
   "metadata": {},
   "outputs": [
    {
     "name": "stdout",
     "output_type": "stream",
     "text": [
      "R2 score using XGBoost on train set: 0.681\n"
     ]
    }
   ],
   "source": [
    "num_cores = multiprocessing.cpu_count()\n",
    "kf = list(KFold(len(X_train),num_cores, shuffle=False, random_state=None))\n",
    "xgbs = Parallel(n_jobs=num_cores)(delayed(fit_model)(traini, xgb) for traini,_ in kf)\n",
    "preds = np.empty_like(y_train)\n",
    "\n",
    "for i,(_,testi) in enumerate(kf):\n",
    "    preds[testi] = xgbs[i].predict(X_train.iloc[testi])\n",
    "    \n",
    "print(\"R2 score using XGBoost on train set: {:.3}\".format(r2_score(y_train, preds)))"
   ]
  },
  {
   "cell_type": "markdown",
   "metadata": {},
   "source": [
    "### 2.2 RandomForest"
   ]
  },
  {
   "cell_type": "markdown",
   "metadata": {},
   "source": [
    "* GridSearch to tune hyperparameters"
   ]
  },
  {
   "cell_type": "code",
   "execution_count": 23,
   "metadata": {
    "scrolled": true
   },
   "outputs": [
    {
     "name": "stdout",
     "output_type": "stream",
     "text": [
      "Best R2 score using RandomForest: 0.643\n",
      "{'max_depth': 6, 'max_features': 0.6, 'n_estimators': 20}\n"
     ]
    }
   ],
   "source": [
    "# this script takes circa. 20s\n",
    "\n",
    "n_estimators = [20]\n",
    "max_features = np.arange(0.1, 1, 0.1)\n",
    "max_depth = [2, 3, 4, 5, 6]\n",
    "\n",
    "param_grid_rf = dict(n_estimators=n_estimators, max_features=max_features, max_depth=max_depth)\n",
    "\n",
    "rf_gs = GridSearchCV(RandomForestRegressor(), param_grid=param_grid_rf, n_jobs=-1)\n",
    "grid_result_rf = rf_gs.fit(X_train,y_train)\n",
    "\n",
    "print(\"Best R2 score using RandomForest: {:.3}\".format(rf_gs.best_score_))\n",
    "print(rf_gs.best_params_)"
   ]
  },
  {
   "cell_type": "markdown",
   "metadata": {},
   "source": [
    "* Model fitting and in-house cross-validation"
   ]
  },
  {
   "cell_type": "code",
   "execution_count": 24,
   "metadata": {},
   "outputs": [],
   "source": [
    "rf = RandomForestRegressor(n_estimators=1000,\n",
    "                          max_features=rf_gs.best_params_['max_features'],\n",
    "                          max_depth=rf_gs.best_params_['max_depth'])"
   ]
  },
  {
   "cell_type": "code",
   "execution_count": 25,
   "metadata": {
    "scrolled": false
   },
   "outputs": [
    {
     "name": "stdout",
     "output_type": "stream",
     "text": [
      "R2 score using RandomForest on train set: 0.644\n"
     ]
    }
   ],
   "source": [
    "num_cores = multiprocessing.cpu_count()\n",
    "kf = list(KFold(len(X_train),num_cores, shuffle=False, random_state=None))\n",
    "rfrs = Parallel(n_jobs=num_cores)(delayed(fit_model)(traini, rf) for traini,_ in kf)\n",
    "preds = np.empty_like(y_train)\n",
    "\n",
    "for i,(_,testi) in enumerate(kf):\n",
    "    preds[testi] = rfrs[i].predict(X_train.iloc[testi])\n",
    "    \n",
    "print(\"R2 score using RandomForest on train set: {:.3}\".format(r2_score(y_train, preds)))"
   ]
  },
  {
   "cell_type": "markdown",
   "metadata": {},
   "source": [
    "### 2.3. Blending"
   ]
  },
  {
   "cell_type": "code",
   "execution_count": 26,
   "metadata": {
    "scrolled": true
   },
   "outputs": [
    {
     "name": "stderr",
     "output_type": "stream",
     "text": [
      "/Library/Frameworks/Python.framework/Versions/3.6/lib/python3.6/site-packages/scipy/linalg/basic.py:1226: RuntimeWarning: internal gelsd driver lwork query error, required iwork dimension not returned. This is likely the result of LAPACK bug 0038, fixed in LAPACK 3.2.2 (released July 21, 2010). Falling back to 'gelss' driver.\n",
      "  warnings.warn(mesg, RuntimeWarning)\n"
     ]
    },
    {
     "data": {
      "text/plain": [
       "LinearRegression(copy_X=True, fit_intercept=True, n_jobs=-1, normalize=False)"
      ]
     },
     "execution_count": 26,
     "metadata": {},
     "output_type": "execute_result"
    }
   ],
   "source": [
    "X_train_bl, X_test_bl, y_train_bl, y_test_bl = train_test_split(X_train, y_train, test_size=0.2)\n",
    "\n",
    "xgb.fit(X_train_bl, y_train_bl)\n",
    "rf.fit(X_train_bl, y_train_bl)\n",
    "\n",
    "xgb_preds = xgb.predict(X_test_bl)\n",
    "rf_preds = rf.predict(X_test_bl)\n",
    "\n",
    "preds_table = pd.DataFrame({\"XGBoost\":xgb_preds, \"RandomForest\":rf_preds}, index=X_test_bl.index)\n",
    "\n",
    "# We use a LinearRegression to determine how to blend the models predictions\n",
    "\n",
    "lr_blending = LinearRegression(n_jobs=-1)\n",
    "lr_blending.fit(preds_table, y_test_bl)"
   ]
  },
  {
   "cell_type": "markdown",
   "metadata": {},
   "source": [
    "## 3. Scoring on test set"
   ]
  },
  {
   "cell_type": "code",
   "execution_count": 27,
   "metadata": {},
   "outputs": [
    {
     "data": {
      "text/plain": [
       "RandomForestRegressor(bootstrap=True, criterion='mse', max_depth=6,\n",
       "           max_features=0.6, max_leaf_nodes=None,\n",
       "           min_impurity_decrease=0.0, min_impurity_split=None,\n",
       "           min_samples_leaf=1, min_samples_split=2,\n",
       "           min_weight_fraction_leaf=0.0, n_estimators=1000, n_jobs=1,\n",
       "           oob_score=False, random_state=None, verbose=0, warm_start=False)"
      ]
     },
     "execution_count": 27,
     "metadata": {},
     "output_type": "execute_result"
    }
   ],
   "source": [
    "rf.fit(X_train, y_train)"
   ]
  },
  {
   "cell_type": "code",
   "execution_count": 28,
   "metadata": {},
   "outputs": [
    {
     "data": {
      "text/plain": [
       "XGBRegressor(base_score=0.5, booster='gbtree', colsample_bylevel=1,\n",
       "       colsample_bytree=0.4, gamma=0, learning_rate=0.5, max_delta_step=0,\n",
       "       max_depth=7, min_child_weight=1, missing=None, n_estimators=20,\n",
       "       n_jobs=1, nthread=None, objective='reg:linear', random_state=0,\n",
       "       reg_alpha=0, reg_lambda=1, scale_pos_weight=1, seed=None,\n",
       "       silent=True, subsample=1)"
      ]
     },
     "execution_count": 28,
     "metadata": {},
     "output_type": "execute_result"
    }
   ],
   "source": [
    "xgb.fit(X_train, y_train)"
   ]
  },
  {
   "cell_type": "markdown",
   "metadata": {},
   "source": [
    "#### Import data"
   ]
  },
  {
   "cell_type": "code",
   "execution_count": 29,
   "metadata": {},
   "outputs": [],
   "source": [
    "test = pd.read_csv(\"./data/test.csv\", index_col=\"vintage_id\")"
   ]
  },
  {
   "cell_type": "markdown",
   "metadata": {},
   "source": [
    "#### Preprocessing"
   ]
  },
  {
   "cell_type": "code",
   "execution_count": 30,
   "metadata": {},
   "outputs": [
    {
     "name": "stderr",
     "output_type": "stream",
     "text": [
      "/Library/Frameworks/Python.framework/Versions/3.6/lib/python3.6/site-packages/ipykernel_launcher.py:54: FutureWarning: specifying 'categories' or 'ordered' in .astype() is deprecated; pass a CategoricalDtype instead\n"
     ]
    }
   ],
   "source": [
    "test = test.drop(['vintage_name'], axis=1)\n",
    "\n",
    "# replace NaN original values with 2018 (because it ùainly concerns champagne)\n",
    "test['wine_year'] = test['wine_year'].replace(\"U.V.\", 2018)\n",
    "test['wine_year'] = test['wine_year'].replace(\"N.V.\", 2018)\n",
    "test['wine_year'] = test['wine_year'].astype(int)\n",
    "\n",
    "# round ratings average\n",
    "for index in test.index:\n",
    "    test.loc[index, 'vintage_ratings_average'] = round(test.loc[index, 'vintage_ratings_average'],1)\n",
    "\n",
    "# identify premium wines\n",
    "for index in test.index:\n",
    "    premium_category = premium_identifier(test.loc[index, 'wine_name'])\n",
    "    test.loc[index, 'premium_category'] = premium_category\n",
    "test['premium_category'] = test['premium_category'].replace(np.nan, \"None\")\n",
    "\n",
    "# identify winery category\n",
    "for index in test.index:\n",
    "    winery_category = winery_category_identifier(test.loc[index, 'winery_name'])\n",
    "    test.loc[index, 'winery_category'] = winery_category\n",
    "test['winery_category'] = test['winery_category'].replace(np.nan, \"None\")\n",
    "\n",
    "# this function allows to reduce the number of wine_region_names by 25%\n",
    "for index in test.index:\n",
    "    test.loc[index, \"wine_region_name\"] = region_cleaner(test.loc[index, \"wine_region_name\"])\n",
    "\n",
    "# delete rows whose region appears only once in the entire dataset\n",
    "value_counts = test['wine_region_name'].value_counts()\n",
    "regions_to_remove = value_counts[value_counts == 1].index.tolist()\n",
    "for index in test.index: \n",
    "    if test.loc[index, 'wine_region_name'] in regions_to_remove:\n",
    "        test = test.drop(index, axis=0)\n",
    "\n",
    "# replace NaN values with mean in region features\n",
    "test['wine_region_production_vol'] = test['wine_region_production_vol'].fillna(df['wine_region_production_vol'].mean())\n",
    "test['wine_region_surface'] = test['wine_region_surface'].fillna(df['wine_region_surface'].mean())\n",
    "\n",
    "# remove extreme values based on original dataframe value repartition (to be executed once only)\n",
    "test = test[test['vintage_ratings_count'] < df['vintage_ratings_count'].mean() + 3 * df['vintage_ratings_count'].std()]\n",
    "test = test[test['vintage_ratings_count'] > df['vintage_ratings_count'].mean() - 3 * df['vintage_ratings_count'].std()]\n",
    "\n",
    "# add is_brut column\n",
    "for index in test.index:\n",
    "    if re.search(r\"Brut\", test.loc[index, 'wine_name']):\n",
    "        test.loc[index, \"is_brut\"] = 1\n",
    "    else:\n",
    "        test.loc[index, \"is_brut\"] = 0\n",
    "\n",
    "test = test.drop(['wine_name', 'winery_name', 'wine_id'], axis=1) # if one should be kept, probably winery_name\n",
    "\n",
    "# one hot encoding\n",
    "for col in cols_to_encode:\n",
    "    test[col] = test[col].astype('category', categories = data[col].unique().tolist())\n",
    "test = pd.get_dummies(test, columns = cols_to_encode)"
   ]
  },
  {
   "cell_type": "markdown",
   "metadata": {},
   "source": [
    "#### Predictions"
   ]
  },
  {
   "cell_type": "code",
   "execution_count": 31,
   "metadata": {},
   "outputs": [],
   "source": [
    "X_test = test.drop(['price'], axis=1)\n",
    "y_test = test['price']"
   ]
  },
  {
   "cell_type": "code",
   "execution_count": 32,
   "metadata": {},
   "outputs": [],
   "source": [
    "xgb_preds_test = xgb.predict(X_test)\n",
    "rf_preds_test = rf.predict(X_test)\n",
    "\n",
    "preds_table_final = pd.DataFrame({\"XGBoost\":xgb_preds_test, \"RandomForests\":rf_preds_test}, index=test.index)\n",
    "preds = lr_blending.predict(preds_table_final)"
   ]
  },
  {
   "cell_type": "code",
   "execution_count": 33,
   "metadata": {},
   "outputs": [
    {
     "name": "stdout",
     "output_type": "stream",
     "text": [
      "Final R2 score (after blending): 0.656\n"
     ]
    }
   ],
   "source": [
    "print(\"Final R2 score (after blending): {:.3}\".format(r2_score(y_test, preds)))"
   ]
  },
  {
   "cell_type": "code",
   "execution_count": null,
   "metadata": {},
   "outputs": [],
   "source": []
  }
 ],
 "metadata": {
  "kernelspec": {
   "display_name": "Python 3",
   "language": "python",
   "name": "python3"
  },
  "language_info": {
   "codemirror_mode": {
    "name": "ipython",
    "version": 3
   },
   "file_extension": ".py",
   "mimetype": "text/x-python",
   "name": "python",
   "nbconvert_exporter": "python",
   "pygments_lexer": "ipython3",
   "version": "3.6.3"
  }
 },
 "nbformat": 4,
 "nbformat_minor": 2
}
