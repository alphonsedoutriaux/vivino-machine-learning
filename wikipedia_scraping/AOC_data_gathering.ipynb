{
 "cells": [
  {
   "cell_type": "markdown",
   "metadata": {},
   "source": [
    "## French AOC data gathering\n",
    "#### Author : Alphonse Doutriaux, March 2018"
   ]
  },
  {
   "cell_type": "code",
   "execution_count": 133,
   "metadata": {},
   "outputs": [],
   "source": [
    "import numpy as np\n",
    "import pandas as pd\n",
    "import math\n",
    "import re"
   ]
  },
  {
   "cell_type": "markdown",
   "metadata": {},
   "source": [
    "### Data and libraries imports"
   ]
  },
  {
   "cell_type": "code",
   "execution_count": 134,
   "metadata": {
    "scrolled": true
   },
   "outputs": [],
   "source": [
    "# this list was built and cleaned separately\n",
    "clean_aoc_list = [\"alsace chasselas ou gutedel\", \"alsace gewurztraminer\", \"alsace grand cru\", \"alsace muscat\", \"alsace pinot noir\", \"alsace pinot ou klevner\", \"alsace riesling\", \"alsace sylvaner\", \"alsace tokay-pinot gris\", \"cremant d\\'alsace\", \"beaujolais\", \"beaujolais-villages\", \"beaujolais superieur\", \"brouilly\", \"chenas\", \"chiroubles\", \"cote de brouilly\", \"coteaux du lyonnais\", \"fleurie\", \"julienas\", \"morgon\", \"moulin a vent\", \"regnie\", \"saint-amour\", \"barsac\", \"blaye\", \"bordeaux\", \"bordeaux clairet\", \"bordeaux cotes de francs\", \"bordeaux rose\", \"bordeaux sec\", \"bordeaux superieur\", \"cadillac\", \"canon-fronsac\", \"cerons\", \"cremant de bordeaux\", \"cotes de blaye\", \"cotes de bourg\", \"cotes de castillon\", \"entre-deux-mers\", \"fronsac\", \"graves\", \"graves de vayres\", \"graves superieures\", \"haut-medoc\", \"lalande de pomerol\", \"listrac-medoc\", \"loupiac\", \"margaux\", \"medoc\", \"montagne saint-emilion\", \"moulis en medoc\", \"pauillac\", \"pessac leognan\", \"pomerol\", \"premieres cotes de bordeaux\", \"premieres cotes de blaye\", \"puisseguin saint-emilion\", \"saint-emilion\", \"saint-emilion grand cru\", \"saint-estephe\", \"saint-georges saint-emilion\", \"saint-julien\", \"sainte-croix-du-mont\", \"sainte-foix-bordeaux\", \"sauternes\", \"aloxe-corton\", \"auxey-duresses\", \"batard-montrachet\", \"beaune\", \"bienvenues batard-montrachet\", \"blagny\", \"bonnes-mares\", \"bourgogne\", \"bourgogne aligote\", \"bourgogne aligote bouzeron\", \"bourgogne chitry\", \"bourgogne claret\", \"bourgogne cote chalonnaise\", \"bourgogne cote saint-jacques\", \"bourgogne cotes d\\'auxerre\", \"bourgogne cotes du couchois\", \"bourgogne coulanges-la-vineuse\", \"bourgogne epineuil \", \"bourgogne grand ordinaire \", \"bourgogne hautes-cotes de nuits\", \"bourgogne hautes-cotes de beaune\", \"bourgogne la chapelle notre-dame\", \"bourgogne le chapitre\", \"bourgogne montrecul\", \"bourgogne mousseux\", \"bourgogne passe tout grains\", \"vezelay\", \"chablis\", \"chablis grand cru\", \"chablis premier cru\", \"chambertin\", \"chambertin-clos de beze\", \"chapelle-chambertin\", \"charmes-chambertin\", \"chambolle musigny\", \"chassagne-montrachet\", \"chevalier-montrachet\", \"chorey-les-beaune\", \"clos de la roche\", \"clos de tart\", \"clos vougeot\", \"clos des lambrays\", \"clos saint-denis\", \"corton\", \"corton-charlemagne\", \"cote de beaune\", \"cote de beaune villages\", \"cote de nuits-villages\", \"cremant de bourgogne\", \"criots batard-montrachet \", \"echezeaux\", \"fixin\", \"gevrey-chambertin\", \"givry\", \"grands-echezeaux\", \"griotte-chambertin\", \"irancy\", \"ladoix\", \"la grande rue\", \"la tache\", \"la romanee\", \"latricieres-chambertin\", \"macon\", \"macon superieur\", \"macon-villages\", \"maranges\", \"marsannay\", \"mazis-chambertin\", \"mazoyeres-chambertin\", \"mercurey\", \"meursault\", \"montagny\", \"monthelie\", \"montrachet\", \"morey-saint-denis\", \"nuits-saint-georges\", \"pernand-vergelesses\", \"petit chablis\", \"pommard\", \"pouilly-fuisse\", \"pouilly-loche\", \"pouilly-vinzelles\", \"puligny-montrachet\", \"richebourg\", \"romanee-conti\", \"romanee-saint-vivant\", \"ruchottes-chambertin\", \"rully\", \"saint-aubin\", \"saint-bris\", \"saint-romain\", \"saint-veran\", \"santenay\", \"savigny-les-beaune\", \"vire-clesse\", \"volnay\", \"vosne-romanee\", \"vougeot\", \"beaumes de venise\", \"chateau-grillet\", \"chateauneuf-du-pape\", \"clairette de die\", \"condrieu\", \"cornas\", \"cote rotie\", \"pierrevert\", \"coteaux du tricastin\", \"cotes du luberon\", \"cotes du rhone\", \"cotes du rhone-villages\", \"ventoux\", \"cotes du vivarais aovdqs\", \"crozes-hermitage\", \"gigondas\", \"hermitage\", \"lirac\", \"muscat de beaumes-de-venise\", \"saint-joseph\", \"saint peray\", \"tavel\", \"vacqueyras\", \"vinsobres\", \"banyuls\", \"banyuls grand cru\", \"blanquette de limoux\", \"cabardes aovdqs\", \"clairette de bellegarde\", \"clairette du languedoc\", \"collioure\", \"corbieres\", \"costieres de nimes\", \"coteaux du languedoc\", \"cotes de la malepere\", \"cotes du roussillon\", \"cotes du roussillon-villages\", \"faugeres\", \"fitou\", \"limoux\", \"maury\", \"minervois\", \"muscat de lunel\", \"muscat de mireval\", \"muscat de rivesaltes\", \"muscat de saint-jean de minervois\", \"picpoul de pinet\", \"rivesaltes\", \"saint-chinian\", \"anjou\", \"anjou-coteaux de la loire\", \"anjou-gamay\", \"anjou-villages\", \"bonnezeaux\", \"bourgueil\", \"cabernet d\\'anjou\", \"chateaumeillant aovdqs\", \"chaume\", \"cheverny\", \"chinon\", \"cote roannaise\", \"coteaux d\\'ancenis\", \"coteaux de l\\'aubance\", \"coteaux du giennois aovdqs\", \"coteaux du layon\", \"coteaux du loir\", \"coteaux du vendomois aovdqs\", \"cotes d\\'auvergne aovdqs\", \"cotes du forez aovdqs\", \"cour-cheverny\", \"fiefs vendeens aovdqs\", \"gros plant aovdqs\", \"haut-poitou aovdqs\", \"jasnieres\", \"menetou-salon\", \"montlouis sur loire\", \"muscadet\", \"muscadet cotes de grandlieu\", \"muscadet de sevre-et-maine\", \"muscadet coteaux de la loire\", \"quarts de chaume\", \"pouilly-fume\", \"pouilly-sur-loire\", \"quincy\", \"reuilly\", \"rose de loire\", \"rose d\\'anjou\", \"saint-nicolas-de-bourgueil\", \"saint-pourcain aovdqs\", \"sancerre\", \"saumur\", \"saumur sec blanc\", \"saumur-champigny\", \"savennieres\", \"savennieres coulee-de-serrant\", \"savennieres roches-aux-moines\", \"touraine\", \"touraine amboise\", \"touraine-azay-le-rideau\", \"touraine-mesland\", \"valencay aovdqs\", \"vouvray\", \"bandol\", \"bellet\", \"cassis\", \"coteaux d\\'aix en provence\", \"coteaux varois en provence\", \"cotes de provence\", \"palette\", \"ajaccio\", \"muscat du cap corse\", \"patrimonio\", \"vin de corse\", \"bearn\", \"bergerac\", \"bergerac sec\", \"buzet\", \"cahors\", \"cotes de bergerac\", \"cotes de bergerac moelleux\", \"cotes de duras\", \"cotes de saint-mont aovdqs\", \"cotes du marmandais\", \"fronton\", \"gaillac\", \"haut-montravel\", \"irouleguy\", \"jurancon\", \"jurancon sec\", \"madiran\", \"marcillac\", \"monbazillac\", \"montravel\", \"pacherenc du vic-bilh\", \"pecharmant\", \"saussignac\", \"tursan aovdqs\", \"arbois\", \"arbois pupillin\", \"bugey aovdqs\", \"chateau-chalon\", \"champagne\", \"coteaux champenois\", \"rose des riceys\", \"cotes de toul aovdqs\", \"moselle aovdqs\", \"cotes du jura\", \"cremant du jura\", \"l\\'etoile\", \"pineau des charentes\", \"roussette de savoie\", \"vin de savoie\"]"
   ]
  },
  {
   "cell_type": "code",
   "execution_count": 135,
   "metadata": {},
   "outputs": [],
   "source": [
    "data = pd.read_csv(\"wikipedia.csv\")\n",
    "# without clening: 177 matches\n",
    "# with cleaning: 240"
   ]
  },
  {
   "cell_type": "code",
   "execution_count": 136,
   "metadata": {},
   "outputs": [],
   "source": [
    "indexes_to_drop = []\n",
    "for index in data.index:\n",
    "    if math.isnan(data.loc[index, 'production_volume']) and math.isnan(data.loc[index, 'area']):\n",
    "        indexes_to_drop.append(index)\n",
    "data = data.drop(data.index[indexes_to_drop])"
   ]
  },
  {
   "cell_type": "code",
   "execution_count": 137,
   "metadata": {},
   "outputs": [],
   "source": [
    "def aoc_cleaner(text):\n",
    "    text = text.replace(\"-\", \" \")\n",
    "    text = text.replace(\" (AOC)\", \"\")\n",
    "    text = text.replace(\" aovdqs\", \"\")\n",
    "    text = text.replace(\" (igp)\", \"\")\n",
    "    text = text.replace(\" (vdn)\", \"\")\n",
    "    text = text.rstrip()\n",
    "    return(text)"
   ]
  },
  {
   "cell_type": "code",
   "execution_count": 138,
   "metadata": {},
   "outputs": [],
   "source": [
    "for index in data.index:\n",
    "    data.loc[index, 'name'] = aoc_cleaner(data.loc[index, 'name'])\n",
    "for counter, aoc in enumerate(clean_aoc_list):\n",
    "    clean_aoc_list[counter] = aoc_cleaner(aoc)"
   ]
  },
  {
   "cell_type": "code",
   "execution_count": 139,
   "metadata": {},
   "outputs": [
    {
     "name": "stdout",
     "output_type": "stream",
     "text": [
      "240\n"
     ]
    }
   ],
   "source": [
    "i=0\n",
    "for index in data.index:\n",
    "    if data.loc[index, 'name'] in clean_aoc_list:\n",
    "        i += 1\n",
    "print(i)"
   ]
  },
  {
   "cell_type": "code",
   "execution_count": 140,
   "metadata": {},
   "outputs": [],
   "source": [
    "data.to_csv(\"aoc_clean.csv\")"
   ]
  },
  {
   "cell_type": "code",
   "execution_count": null,
   "metadata": {},
   "outputs": [],
   "source": []
  }
 ],
 "metadata": {
  "kernelspec": {
   "display_name": "Python 3",
   "language": "python",
   "name": "python3"
  },
  "language_info": {
   "codemirror_mode": {
    "name": "ipython",
    "version": 3
   },
   "file_extension": ".py",
   "mimetype": "text/x-python",
   "name": "python",
   "nbconvert_exporter": "python",
   "pygments_lexer": "ipython3",
   "version": "3.6.3"
  }
 },
 "nbformat": 4,
 "nbformat_minor": 2
}
